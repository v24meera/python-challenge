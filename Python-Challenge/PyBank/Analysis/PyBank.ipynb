{
 "cells": [
  {
   "cell_type": "code",
   "execution_count": 21,
   "id": "af087a36-8de4-4174-a25d-fe6376a3d76f",
   "metadata": {},
   "outputs": [
    {
     "name": "stdout",
     "output_type": "stream",
     "text": [
      "Financial Analysis\n",
      "----------------------------\n",
      "Total Months: 86\n",
      "Total: $22564198\n",
      "Average Change: $-8311.11\n",
      "Greatest Increase in Profits: Aug-16 ($1862002)\n",
      "Greatest Decrease in Profits: Feb-14 ($-1825558)\n",
      "\n",
      "Financial analysis has been successfully exported to financial_analysis.txt.\n"
     ]
    }
   ],
   "source": [
    "# Import necessary libraries\n",
    "import csv\n",
    "import os\n",
    "\n",
    "# File path\n",
    "file_path = \"budget_data.csv\"\n",
    "\n",
    "# Initialize variables to store data\n",
    "total_months = 0\n",
    "net_total = 0\n",
    "previous_profit_loss = 0\n",
    "changes = []\n",
    "dates = []\n",
    "\n",
    "# Read the csv file and calculate required values\n",
    "with open(file_path, newline='') as csvfile:\n",
    "    csvreader = csv.reader(csvfile, delimiter=',')\n",
    "    header = next(csvreader)  # Skip header row\n",
    "\n",
    "    for row in csvreader:\n",
    "        # Calculate total months\n",
    "        total_months += 1\n",
    "\n",
    "        # Calculate net total amount of Profit/Losses\n",
    "        net_total += int(row[1])\n",
    "\n",
    "        # Track changes in Profit/Losses\n",
    "        current_profit_loss = int(row[1])\n",
    "        if total_months > 1:\n",
    "            change = current_profit_loss - previous_profit_loss\n",
    "            changes.append(change)\n",
    "            dates.append(row[0])\n",
    "\n",
    "        # Update previous profit/loss for next iteration\n",
    "        previous_profit_loss = current_profit_loss\n",
    "\n",
    "# Calculate average change\n",
    "average_change = round(sum(changes) / len(changes), 2)\n",
    "\n",
    "# Find greatest increase and decrease in profits\n",
    "greatest_increase = max(changes)\n",
    "greatest_increase_date = dates[changes.index(greatest_increase)]\n",
    "greatest_decrease = min(changes)\n",
    "greatest_decrease_date = dates[changes.index(greatest_decrease)]\n",
    "\n",
    "# Print the financial analysis\n",
    "print(\"Financial Analysis\")\n",
    "print(\"----------------------------\")\n",
    "print(f\"Total Months: {total_months}\")\n",
    "print(f\"Total: ${net_total}\")\n",
    "print(f\"Average Change: ${average_change}\")\n",
    "print(f\"Greatest Increase in Profits: {greatest_increase_date} (${greatest_increase})\")\n",
    "print(f\"Greatest Decrease in Profits: {greatest_decrease_date} (${greatest_decrease})\")\n",
    "\n",
    "# Export the analysis to a text file\n",
    "output_file = \"financial_analysis.txt\"\n",
    "with open(output_file, \"w\") as txt_file:\n",
    "    txt_file.write(\"Financial Analysis\\n\")\n",
    "    txt_file.write(\"----------------------------\\n\")\n",
    "    txt_file.write(f\"Total Months: {total_months}\\n\")\n",
    "    txt_file.write(f\"Total: ${net_total}\\n\")\n",
    "    txt_file.write(f\"Average Change: ${average_change}\\n\")\n",
    "    txt_file.write(f\"Greatest Increase in Profits: {greatest_increase_date} (${greatest_increase})\\n\")\n",
    "    txt_file.write(f\"Greatest Decrease in Profits: {greatest_decrease_date} (${greatest_decrease})\\n\")\n",
    "\n",
    "# Print confirmation message\n",
    "print(f\"\\nFinancial analysis has been successfully exported to {output_file}.\")\n"
   ]
  },
  {
   "cell_type": "code",
   "execution_count": null,
   "id": "47e7bf8b-0a86-4138-b46a-f92961287a26",
   "metadata": {},
   "outputs": [],
   "source": []
  }
 ],
 "metadata": {
  "kernelspec": {
   "display_name": "anaconda-panel-2023.05-py310",
   "language": "python",
   "name": "conda-env-anaconda-panel-2023.05-py310-py"
  },
  "language_info": {
   "codemirror_mode": {
    "name": "ipython",
    "version": 3
   },
   "file_extension": ".py",
   "mimetype": "text/x-python",
   "name": "python",
   "nbconvert_exporter": "python",
   "pygments_lexer": "ipython3",
   "version": "3.11.5"
  }
 },
 "nbformat": 4,
 "nbformat_minor": 5
}
