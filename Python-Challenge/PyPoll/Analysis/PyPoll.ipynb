{
 "cells": [
  {
   "cell_type": "code",
   "execution_count": 1,
   "id": "fb08a911-52dc-4860-b6cb-a5721a8bdfda",
   "metadata": {},
   "outputs": [
    {
     "name": "stdout",
     "output_type": "stream",
     "text": [
      "Election Results\n",
      "-------------------------\n",
      "Total Votes: 369711\n",
      "-------------------------\n",
      "Charles Casper Stockham: 23.049% (85213)\n",
      "Diana DeGette: 73.812% (272892)\n",
      "Raymon Anthony Doane: 3.139% (11606)\n",
      "-------------------------\n",
      "Winner: Diana DeGette\n",
      "-------------------------\n",
      "\n",
      "Election results have been successfully exported to election_results.txt.\n"
     ]
    }
   ],
   "source": [
    "# Import necessary libraries\n",
    "import csv\n",
    "\n",
    "# File path\n",
    "file_path = \"election_data.csv\"\n",
    "\n",
    "# Initialize variables\n",
    "total_votes = 0\n",
    "candidates = []\n",
    "candidate_votes = {}\n",
    "\n",
    "# Read the csv file and calculate required values\n",
    "with open(file_path, newline='') as csvfile:\n",
    "    csvreader = csv.reader(csvfile, delimiter=',')\n",
    "    header = next(csvreader)  # Skip header row\n",
    "\n",
    "    for row in csvreader:\n",
    "        # Calculate total votes\n",
    "        total_votes += 1\n",
    "        \n",
    "        # Track candidates who received votes\n",
    "        candidate_name = row[2]\n",
    "        if candidate_name not in candidates:\n",
    "            candidates.append(candidate_name)\n",
    "            candidate_votes[candidate_name] = 0\n",
    "        \n",
    "        # Count each candidate's votes\n",
    "        candidate_votes[candidate_name] += 1\n",
    "\n",
    "# Determine the winner based on popular vote\n",
    "winner = max(candidate_votes, key=candidate_votes.get)\n",
    "\n",
    "# Calculate the percentage of votes each candidate won\n",
    "percentages = {candidate: (votes / total_votes) * 100 for candidate, votes in candidate_votes.items()}\n",
    "\n",
    "# Print the election results\n",
    "print(\"Election Results\")\n",
    "print(\"-------------------------\")\n",
    "print(f\"Total Votes: {total_votes}\")\n",
    "print(\"-------------------------\")\n",
    "for candidate in candidates:\n",
    "    print(f\"{candidate}: {percentages[candidate]:.3f}% ({candidate_votes[candidate]})\")\n",
    "print(\"-------------------------\")\n",
    "print(f\"Winner: {winner}\")\n",
    "print(\"-------------------------\")\n",
    "\n",
    "# Export the analysis to a text file\n",
    "output_file = \"election_results.txt\"\n",
    "with open(output_file, \"w\") as txt_file:\n",
    "    txt_file.write(\"Election Results\\n\")\n",
    "    txt_file.write(\"-------------------------\\n\")\n",
    "    txt_file.write(f\"Total Votes: {total_votes}\\n\")\n",
    "    txt_file.write(\"-------------------------\\n\")\n",
    "    for candidate in candidates:\n",
    "        txt_file.write(f\"{candidate}: {percentages[candidate]:.3f}% ({candidate_votes[candidate]})\\n\")\n",
    "    txt_file.write(\"-------------------------\\n\")\n",
    "    txt_file.write(f\"Winner: {winner}\\n\")\n",
    "    txt_file.write(\"-------------------------\\n\")\n",
    "\n",
    "# Print confirmation message\n",
    "print(f\"\\nElection results have been successfully exported to {output_file}.\")\n"
   ]
  },
  {
   "cell_type": "code",
   "execution_count": null,
   "id": "4a885b73-3aa7-41d6-ae74-11bbb97f2a8f",
   "metadata": {},
   "outputs": [],
   "source": []
  }
 ],
 "metadata": {
  "kernelspec": {
   "display_name": "anaconda-panel-2023.05-py310",
   "language": "python",
   "name": "conda-env-anaconda-panel-2023.05-py310-py"
  },
  "language_info": {
   "codemirror_mode": {
    "name": "ipython",
    "version": 3
   },
   "file_extension": ".py",
   "mimetype": "text/x-python",
   "name": "python",
   "nbconvert_exporter": "python",
   "pygments_lexer": "ipython3",
   "version": "3.11.5"
  }
 },
 "nbformat": 4,
 "nbformat_minor": 5
}
